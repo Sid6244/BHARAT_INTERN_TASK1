{
 "cells": [
  {
   "cell_type": "markdown",
   "id": "903639da",
   "metadata": {},
   "source": [
    "# TASK 1 (HOUSE PRICE PREDICTION)"
   ]
  },
  {
   "cell_type": "code",
   "execution_count": 12,
   "id": "b6df2eff",
   "metadata": {},
   "outputs": [],
   "source": [
    "#Importing all the required libraries\n",
    "import numpy as np\n",
    "import matplotlib.pyplot as plt\n",
    "import pandas as pd\n",
    "from sklearn.model_selection import train_test_split\n",
    "from sklearn.linear_model import LinearRegression\n",
    "from sklearn import metrics"
   ]
  },
  {
   "cell_type": "code",
   "execution_count": 17,
   "id": "db75ff8c",
   "metadata": {},
   "outputs": [
    {
     "data": {
      "text/html": [
       "<div>\n",
       "<style scoped>\n",
       "    .dataframe tbody tr th:only-of-type {\n",
       "        vertical-align: middle;\n",
       "    }\n",
       "\n",
       "    .dataframe tbody tr th {\n",
       "        vertical-align: top;\n",
       "    }\n",
       "\n",
       "    .dataframe thead th {\n",
       "        text-align: right;\n",
       "    }\n",
       "</style>\n",
       "<table border=\"1\" class=\"dataframe\">\n",
       "  <thead>\n",
       "    <tr style=\"text-align: right;\">\n",
       "      <th></th>\n",
       "      <th>LotArea</th>\n",
       "      <th>YearBuilt</th>\n",
       "      <th>1stFlrSF</th>\n",
       "      <th>2ndFlrSF</th>\n",
       "      <th>FullBath</th>\n",
       "      <th>BedroomAbvGr</th>\n",
       "      <th>TotRmsAbvGrd</th>\n",
       "    </tr>\n",
       "  </thead>\n",
       "  <tbody>\n",
       "    <tr>\n",
       "      <th>0</th>\n",
       "      <td>8450</td>\n",
       "      <td>2003</td>\n",
       "      <td>856</td>\n",
       "      <td>854</td>\n",
       "      <td>2</td>\n",
       "      <td>3</td>\n",
       "      <td>8</td>\n",
       "    </tr>\n",
       "    <tr>\n",
       "      <th>1</th>\n",
       "      <td>9600</td>\n",
       "      <td>1976</td>\n",
       "      <td>1262</td>\n",
       "      <td>0</td>\n",
       "      <td>2</td>\n",
       "      <td>3</td>\n",
       "      <td>6</td>\n",
       "    </tr>\n",
       "    <tr>\n",
       "      <th>2</th>\n",
       "      <td>11250</td>\n",
       "      <td>2001</td>\n",
       "      <td>920</td>\n",
       "      <td>866</td>\n",
       "      <td>2</td>\n",
       "      <td>3</td>\n",
       "      <td>6</td>\n",
       "    </tr>\n",
       "    <tr>\n",
       "      <th>3</th>\n",
       "      <td>9550</td>\n",
       "      <td>1915</td>\n",
       "      <td>961</td>\n",
       "      <td>756</td>\n",
       "      <td>1</td>\n",
       "      <td>3</td>\n",
       "      <td>7</td>\n",
       "    </tr>\n",
       "    <tr>\n",
       "      <th>4</th>\n",
       "      <td>14260</td>\n",
       "      <td>2000</td>\n",
       "      <td>1145</td>\n",
       "      <td>1053</td>\n",
       "      <td>2</td>\n",
       "      <td>4</td>\n",
       "      <td>9</td>\n",
       "    </tr>\n",
       "  </tbody>\n",
       "</table>\n",
       "</div>"
      ],
      "text/plain": [
       "   LotArea  YearBuilt  1stFlrSF  2ndFlrSF  FullBath  BedroomAbvGr  \\\n",
       "0     8450       2003       856       854         2             3   \n",
       "1     9600       1976      1262         0         2             3   \n",
       "2    11250       2001       920       866         2             3   \n",
       "3     9550       1915       961       756         1             3   \n",
       "4    14260       2000      1145      1053         2             4   \n",
       "\n",
       "   TotRmsAbvGrd  \n",
       "0             8  \n",
       "1             6  \n",
       "2             6  \n",
       "3             7  \n",
       "4             9  "
      ]
     },
     "execution_count": 17,
     "metadata": {},
     "output_type": "execute_result"
    }
   ],
   "source": [
    "#Loading the dataset\n",
    "home_data=pd.read_csv('HouseTrain.csv')\n",
    "\n",
    "#Data segregation\n",
    "y = home_data.SalePrice\n",
    "features = ['LotArea', 'YearBuilt', '1stFlrSF', '2ndFlrSF', 'FullBath', 'BedroomAbvGr', 'TotRmsAbvGrd']\n",
    "X = home_data[features]\n",
    "X.head()"
   ]
  },
  {
   "cell_type": "code",
   "execution_count": 18,
   "id": "f4a81824",
   "metadata": {},
   "outputs": [
    {
     "data": {
      "text/plain": [
       "LinearRegression()"
      ]
     },
     "execution_count": 18,
     "metadata": {},
     "output_type": "execute_result"
    }
   ],
   "source": [
    "# Split into validation and training data\n",
    "train_X, val_X, train_y, val_y = train_test_split(X, y, random_state=1)\n",
    "\n",
    "# Define and training the model\n",
    "l_model = LinearRegression()\n",
    "l_model.fit(train_X, train_y)"
   ]
  },
  {
   "cell_type": "code",
   "execution_count": 8,
   "id": "3c17b9c0",
   "metadata": {},
   "outputs": [
    {
     "data": {
      "text/plain": [
       "array([223510.20668221, 158716.72640451, 110365.37244064, 101868.55862943,\n",
       "       141959.11840445, 278919.69762906, 279262.17393292, 155393.62490997,\n",
       "       222613.20599239, 227650.86467091, 193121.35877927,  98140.19404984,\n",
       "       244627.03170475, 294254.63149482, 226601.21301828, 129018.18029702,\n",
       "       107269.77691832, 164675.47567341, 230291.68477815, 144116.17361679,\n",
       "       136050.86016467, 179780.07755029, 225561.51551151, 247064.5548045 ,\n",
       "        82974.98277094, 195943.80780269, 105563.84018981, 194224.46367775,\n",
       "       371692.66538915, 163169.86402347, 209908.83468965, 140293.27372277,\n",
       "       109455.2978069 , 102109.86360721, 138551.61561273, 275249.93964277,\n",
       "       118620.30420901,  77455.41100011, 274472.21385594, 116194.91735272,\n",
       "       183908.64644095, 156722.57231729,  93706.08429783, 104488.79091937,\n",
       "       212525.55975418, 209704.81849632,  94982.24277206, 207139.18750925,\n",
       "       213845.38754961, 262883.81562   , 111258.52477372, 289754.30919759,\n",
       "        83492.55013167, 246224.07161809, 198899.15902237,  98917.09616253,\n",
       "       118831.59624414, 188813.7905146 , 140163.90540364, 204116.08921473,\n",
       "       178152.85157814, 274122.71222461,  99374.22148427, 118183.34633883,\n",
       "       183036.8793334 , 122798.80509366, 108604.55632118, 232458.10820619,\n",
       "       149244.41314231, 161805.93793638, 299998.98884731, 144609.88319331,\n",
       "       283502.26175151, 138719.99772135, 148364.7354661 , 220071.41503546,\n",
       "       187551.84391287, 151883.98329506, 361054.96239278, 205910.58182419,\n",
       "       216131.23251453, 137795.08970882, 129063.72462892, 148799.27140246,\n",
       "       206282.18071963, 183442.73563951, 155557.75698746, 170274.21886809,\n",
       "       229606.57912571, 193989.31972939, 222673.49282073, 157953.57986811,\n",
       "       110576.57767954, 168105.59593781, 130571.80409871, 101774.09092143,\n",
       "       126214.78744796, 153622.94109781, 123703.85410779, 154374.39673436,\n",
       "       195443.12271276, 123335.52383813,  94763.16016006, 110068.29987205,\n",
       "       135077.86211811, 150850.59980739, 196260.98643289, 139594.38641003,\n",
       "       113157.47360454, 307793.58502318, 129125.86512841, 205613.19443327,\n",
       "       146829.47451446, 204437.12604717, 232358.30312763, 201812.72189723,\n",
       "       220329.70774134, 121784.63827604, 194863.45395953, 237400.37117754,\n",
       "       150731.50032846, 223162.72203488, 303480.72479129, 149382.04189918,\n",
       "       242163.0826443 , 169829.28453511, 270976.9547244 , 121814.98929588,\n",
       "       224356.7164626 , 212213.46238593, 274427.19317272, 112593.08396905,\n",
       "       121516.89118211, 117816.26084298,  68159.46845229, 206775.12004919,\n",
       "       395027.18080216, 278938.70832083, 244852.19147507, 104588.63578296,\n",
       "       132670.99623416, 309204.66466904, 163280.18512941, 241092.28690097,\n",
       "        97695.91578769, 233441.44700697, 113517.20951521, 207957.29614481,\n",
       "       236304.9270946 , 129167.3714057 , 179864.53513445, 177104.88926067,\n",
       "       121043.95592843, 203132.04956122, 211883.18448407, 296995.36242841,\n",
       "       102579.8672306 , 141744.66168285,  89631.20239782, 147548.76372482,\n",
       "       100231.89848701,  96066.80252446, 166977.1460472 , 140390.02263536,\n",
       "       142677.40569914, 139189.20559986, 179226.29381307, 161602.13875762,\n",
       "       179401.00516607,  87806.62380439, 245706.12161968, 163930.3778167 ,\n",
       "       241501.36979442, 241168.99429793, 218750.32738538, 134107.9739362 ,\n",
       "       233252.45099979, 215931.66398665, 120981.76261109, 173848.81093378,\n",
       "       114172.64071029, 203868.15666497, 201795.65252899, 127716.37709055,\n",
       "       256623.07856744, 167439.39236765, 289663.44946924, 274616.39694731,\n",
       "       130908.52445299, 108815.25881921, 118549.98093224, 164958.92599368,\n",
       "       119182.54313786, 212933.2559701 , 122824.94704044, 265136.54849009,\n",
       "       223421.46568724, 145797.5048808 , 131664.27926694,  83433.35316428,\n",
       "       196778.46219113, 226282.1188489 , 180178.83528989, 193358.08625165,\n",
       "       238251.99378435, 128449.44824677, 202582.31704794, 288589.94992704,\n",
       "       270153.13381442, 304137.34198511, 220014.35006385, 100219.11214774,\n",
       "       188241.29614231, 112772.70221427, 246839.66089323, 249140.35088153,\n",
       "       108620.39337319, 138383.68469637, 190003.93214853, 123058.53802685,\n",
       "       461061.6572104 , 104083.01187945, 179088.75231571, 203325.2746975 ,\n",
       "        83445.31853773,  98542.31766345, 199905.63582576, 197136.31064606,\n",
       "       169431.56435525, 198096.03925078, 138777.0792933 , 198371.50871721,\n",
       "        85215.56463088, 130869.25706414, 248745.46269125, 191583.0403848 ,\n",
       "       278415.40239696, 103049.12859067, 141885.99734261, 273939.86030835,\n",
       "       262067.88990942, 144144.12808984, 130316.30727309, 157396.98293824,\n",
       "       131737.99072338, 114395.45814174, 142098.84121486, 136363.15139226,\n",
       "       192351.15771444, 156829.3557315 , 109058.49964834, 118928.6770691 ,\n",
       "       193282.28844324, 168332.70028825, 194246.9731134 ,  79264.26430303,\n",
       "       173153.84173631,  58038.05490055, 254357.07460672, 119694.64124439,\n",
       "       207197.31889042, 222478.31364798, 226437.01048633, 199396.43965085,\n",
       "       124573.6621923 , 220108.27969865, 125660.08168635, 124543.55394943,\n",
       "       132142.21355699, 121816.90511626, 193957.70590695, 181713.05417094,\n",
       "        59218.411555  , 139056.68990918, 207459.53116137, 120936.55676048,\n",
       "       138127.48438543, 119620.00687894, 178500.92732226, 126165.23157479,\n",
       "       120477.04381518, 128463.13836996, 149668.46227893, 143005.09136257,\n",
       "       241345.47975655, 217642.60541393, 106362.96177554, 125383.19548281,\n",
       "       239981.62420421,  67827.03263273,  82212.42303068, 258172.91285747,\n",
       "       169889.97801315,  92545.02925819, 194776.26678296, 232413.72470271,\n",
       "       214150.76054556, 242478.93773783, 138413.03884441, 111016.2282388 ,\n",
       "       150631.43780035, 174184.43842005, 162233.37759287, 211185.2733719 ,\n",
       "       180084.38904214, 242680.21986862, 128012.94757159, 190902.6383845 ,\n",
       "       199983.26392628, 189569.41505566, 160775.78998433, 185949.73823191,\n",
       "       104168.36049619, 234940.37828647, 169275.92252447,  75816.93983166,\n",
       "       252283.59493155, 196155.44028286, 197466.09198785, 215218.27487898,\n",
       "       208930.80571568, 160716.10510036, 145570.60792878, 256603.41323333,\n",
       "       123056.45900478, 349693.07578475, 185220.04179708, 232138.42081275,\n",
       "       143850.23768184, 108895.82066602, 125622.65740586, 230392.40661531,\n",
       "       255261.09292957, 245925.92426462, 196884.51559688, 206340.92028272,\n",
       "       142368.77366077, 143158.81750451, 286210.50185715, 201554.7347318 ,\n",
       "       226259.54006812, 245745.29831496,  94039.52814192, 250397.30324788,\n",
       "       118784.67124101, 156134.3086731 , 160713.83613181, 157688.64869536,\n",
       "       239085.4336418 ,  76293.5220776 , 231795.01090023, 167015.92859012,\n",
       "       275810.03925393, 169523.575577  , 150558.87240674, 207918.97076347,\n",
       "       212808.55183037, 179071.85356619, 110133.56265501, 277980.03727281,\n",
       "       198035.34376312, 181819.02447054, 152108.62875111, 246294.08689723,\n",
       "       193963.72129802])"
      ]
     },
     "execution_count": 8,
     "metadata": {},
     "output_type": "execute_result"
    }
   ],
   "source": [
    "#Making predictions on Validation data\n",
    "Val_pred=l_model.predict(val_X)\n",
    "Val_pred"
   ]
  },
  {
   "cell_type": "code",
   "execution_count": 21,
   "id": "d96ab477",
   "metadata": {},
   "outputs": [
    {
     "data": {
      "text/plain": [
       "0.765508964061463"
      ]
     },
     "execution_count": 21,
     "metadata": {},
     "output_type": "execute_result"
    }
   ],
   "source": [
    "#Checking the accuracy of the model using r2_score\n",
    "score1=metrics.r2_score(val_y,Val_pred)\n",
    "score1"
   ]
  },
  {
   "cell_type": "code",
   "execution_count": 33,
   "id": "5b32233d",
   "metadata": {},
   "outputs": [
    {
     "data": {
      "image/png": "[encoded data removed]",
      "text/plain": [
       "<Figure size 432x288 with 1 Axes>"
      ]
     },
     "metadata": {
      "needs_background": "light"
     },
     "output_type": "display_data"
    }
   ],
   "source": [
    "#Visualising the actual and predicted prices on VALIDATION DATA \n",
    "plt.scatter(val_y,Val_pred) \n",
    "plt.xlabel(\"Actual Price\") \n",
    "plt.ylabel(\"Predicted Price\")\n",
    "plt.title(\" Actual Prices vs Predicted Prices\")\n",
    "plt.show()"
   ]
  },
  {
   "cell_type": "code",
   "execution_count": null,
   "id": "4002c5cd",
   "metadata": {},
   "outputs": [],
   "source": [
    "#COMPLETED "
   ]
  }
 ],
 "metadata": {
  "kernelspec": {
   "display_name": "Python 3 (ipykernel)",
   "language": "python",
   "name": "python3"
  },
  "language_info": {
   "codemirror_mode": {
    "name": "ipython",
    "version": 3
   },
   "file_extension": ".py",
   "mimetype": "text/x-python",
   "name": "python",
   "nbconvert_exporter": "python",
   "pygments_lexer": "ipython3",
   "version": "3.9.7"
  }
 },
 "nbformat": 4,
 "nbformat_minor": 5
}
